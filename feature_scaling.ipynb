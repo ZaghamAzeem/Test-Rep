{
 "cells": [
  {
   "cell_type": "markdown",
   "id": "76aaa1ca",
   "metadata": {},
   "source": [
    "# **Feature scaling**\n",
    "Feature scaling is a technique used in machine learning to standardize the range of independent variables or features of data. It is essential for algorithms that compute distances between data points"
   ]
  },
  {
   "cell_type": "markdown",
   "id": "6ec67c63",
   "metadata": {},
   "source": [
    "# Why Feature Scaling is Important:\n",
    "**Improves Model Performance:**<br>` Many algorithms perform better or converge faster when features are on a similar scale.`\n",
    "<br>**Prevents Dominance:**<br> `Without scaling, features with larger ranges can dominate the distance calculations, leading to biased results.`\n",
    "<br>**Facilitates Fair Comparisons:**<br> `It allows for fair comparisons between features measured in different units.`"
   ]
  },
  {
   "cell_type": "code",
   "execution_count": 6,
   "id": "6f150fde",
   "metadata": {},
   "outputs": [
    {
     "name": "stdout",
     "output_type": "stream",
     "text": [
      "Original Data:\n",
      "   Feature1   Feature2   Feature3\n",
      "0         3  27.381574  60.458675\n",
      "1        77  66.301887  63.601052\n",
      "2        50  61.073219  57.498848\n",
      "3        21   0.538940  22.183264\n",
      "4        17  58.523628  21.815965\n",
      "5        79  28.268845  67.968153\n",
      "6        14  27.471242  55.786147\n",
      "7        51   3.559545  27.193534\n",
      "8        87  66.467743  26.444807\n",
      "9        14  10.557644  51.054420\n"
     ]
    }
   ],
   "source": [
    "import numpy as np\n",
    "import pandas as pd\n",
    "\n",
    "\n",
    "# Create a dummy dataset\n",
    "data = {\n",
    "    'Feature1': np.random.randint(0, 100, 10),\n",
    "    'Feature2': np.random.rand(10) * 100,\n",
    "    'Feature3': np.random.normal(50, 15, 10)\n",
    "}\n",
    "\n",
    "# Convert to a DataFrame\n",
    "df = pd.DataFrame(data)\n",
    "\n",
    "print(\"Original Data:\")\n",
    "print(df)"
   ]
  },
  {
   "cell_type": "markdown",
   "id": "ba34072f",
   "metadata": {},
   "source": [
    "# **Min-Max Scaling:**\n",
    "\n",
    "Formula: <br>\n",
    "𝑥\n",
    "′=\n",
    "(𝑥\n",
    "−\n",
    "min\n",
    "(\n",
    "x\n",
    "))/(\n",
    "max\n",
    "(\n",
    "x\n",
    ")\n",
    "−\n",
    "min\n",
    "(\n",
    "x\n",
    "))\n",
    "\n",
    "​\n",
    " \n"
   ]
  },
  {
   "cell_type": "code",
   "execution_count": null,
   "id": "d4d4b306",
   "metadata": {},
   "outputs": [
    {
     "name": "stdout",
     "output_type": "stream",
     "text": [
      "   Feature1   Feature2   Feature3\n",
      "0  0.000000  27.381574  60.458675\n",
      "1  0.880952  66.301887  63.601052\n",
      "2  0.559524  61.073219  57.498848\n",
      "3  0.214286   0.538940  22.183264\n",
      "4  0.166667  58.523628  21.815965\n",
      "5  0.904762  28.268845  67.968153\n",
      "6  0.130952  27.471242  55.786147\n",
      "7  0.571429   3.559545  27.193534\n",
      "8  1.000000  66.467743  26.444807\n",
      "9  0.130952  10.557644  51.054420\n"
     ]
    }
   ],
   "source": [
    "# Initialize the MinMaxScaler\n",
    "from sklearn.preprocessing import MinMaxScaler\n",
    "\n",
    "df['Feature1']= MinMaxScaler().fit_transform(df[['Feature1']])\n",
    "\n",
    "print(df)"
   ]
  },
  {
   "cell_type": "markdown",
   "id": "191ce911",
   "metadata": {},
   "source": [
    "# **Standard scaling <br>(also known as z-score normalization):**\n",
    "\n",
    "**𝑧 = (𝑥 - 𝜇)/𝜎**\n",
    " \n",
    "Where:<br>\n",
    "z is the standardized value (z-score).<br>\n",
    "x is the original value.<br>\n",
    "μ is the mean of the dataset.<br>\n",
    "σ is the standard deviation of the dataset."
   ]
  },
  {
   "cell_type": "code",
   "execution_count": 10,
   "id": "c720e726",
   "metadata": {},
   "outputs": [
    {
     "name": "stdout",
     "output_type": "stream",
     "text": [
      "   Feature1  Feature2   Feature3\n",
      "0  0.000000 -0.308119  60.458675\n",
      "1  0.880952  1.262996  63.601052\n",
      "2  0.559524  1.051928  57.498848\n",
      "3  0.214286 -1.391689  22.183264\n",
      "4  0.166667  0.949007  21.815965\n",
      "5  0.904762 -0.272302  67.968153\n",
      "6  0.130952 -0.304499  55.786147\n",
      "7  0.571429 -1.269754  27.193534\n",
      "8  1.000000  1.269691  26.444807\n",
      "9  0.130952 -0.987259  51.054420\n"
     ]
    }
   ],
   "source": [
    "\n",
    "from sklearn.preprocessing import StandardScaler\n",
    "\n",
    "df['Feature2'] = StandardScaler().fit_transform(df[['Feature2']])\n",
    "print(df)"
   ]
  },
  {
   "cell_type": "markdown",
   "id": "32cad580",
   "metadata": {},
   "source": [
    "# **Formula for robust scaling**<br>\n",
    "\n",
    "x' = (x - median(x)) / (quantile75 - quantile25)"
   ]
  },
  {
   "cell_type": "code",
   "execution_count": null,
   "id": "2536f3b5",
   "metadata": {},
   "outputs": [
    {
     "name": "stdout",
     "output_type": "stream",
     "text": [
      "   Feature1  Feature2  Feature3\n",
      "0  0.000000 -0.308119  0.212726\n",
      "1  0.880952  1.262996  0.307699\n",
      "2  0.559524  1.051928  0.123269\n",
      "3  0.214286 -1.391689 -0.944095\n",
      "4  0.166667  0.949007 -0.955196\n",
      "5  0.904762 -0.272302  0.439689\n",
      "6  0.130952 -0.304499  0.071505\n",
      "7  0.571429 -1.269754 -0.792667\n",
      "8  1.000000  1.269691 -0.815296\n",
      "9  0.130952 -0.987259 -0.071505\n"
     ]
    }
   ],
   "source": [
    "\n",
    "from sklearn.preprocessing import RobustScaler\n",
    "\n",
    "df['Feature3'] = RobustScaler().fit_transform(df[['Feature3']])\n",
    "print(df)"
   ]
  }
 ],
 "metadata": {
  "kernelspec": {
   "display_name": "my_env",
   "language": "python",
   "name": "python3"
  },
  "language_info": {
   "codemirror_mode": {
    "name": "ipython",
    "version": 3
   },
   "file_extension": ".py",
   "mimetype": "text/x-python",
   "name": "python",
   "nbconvert_exporter": "python",
   "pygments_lexer": "ipython3",
   "version": "3.13.2"
  }
 },
 "nbformat": 4,
 "nbformat_minor": 5
}
